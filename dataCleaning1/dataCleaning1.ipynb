{
 "cells": [
  {
   "cell_type": "code",
   "execution_count": null,
   "id": "533eb551-a65b-4040-a8e9-91f577fa2e97",
   "metadata": {},
   "outputs": [],
   "source": [
    "# dataCleaning1\n",
    "# Youngapelian Myka Jaap \n",
    "# Date: 25 August 2021\n",
    "# Location: Utrecht, The Netherlands\n",
    "\n",
    "# This is a CSV file constructed using R. The file consists of alternating particpant\n",
    "# numbers and dates, respectively. The file was designed to extract last date of\n",
    "# follow-up from particpant engagement. The initial dataset consisted of 19 columns and\n",
    "# 3886046 rows. "
   ]
  },
  {
   "cell_type": "code",
   "execution_count": 5,
   "id": "59458291-ca9f-4db8-892e-15f31cb1c23a",
   "metadata": {},
   "outputs": [],
   "source": [
    "# Change your current working if needed\n",
    "import os\n",
    "os.getcwd()\n",
    "os.chdir('/Users/mykajaapyoungapelian/builds/Git/dataCleaning1')"
   ]
  },
  {
   "cell_type": "code",
   "execution_count": 3,
   "id": "4d4b182a-35e9-4965-923d-c1bbb17ad513",
   "metadata": {},
   "outputs": [],
   "source": [
    "# import all libraries \n",
    "import csv \n",
    "import pandas as pd"
   ]
  },
  {
   "cell_type": "code",
   "execution_count": 6,
   "id": "fcec2d23-f299-4d13-a98f-846741f42d77",
   "metadata": {},
   "outputs": [
    {
     "name": "stdout",
     "output_type": "stream",
     "text": [
      "[['UMCU0395'], ['2021-01-13 08:11:03'], ['UMCU0394'], ['2021-04-17 07:47:42'], ['UMCU0393'], ['2021-04-10 16:37:42'], ['UMCU0392'], ['2021-03-19 14:04:35'], ['UMCU0391'], ['2021-04-06 20:43:43']]\n"
     ]
    }
   ],
   "source": [
    "# import csv file and iterate lines on csv file. Append to new list 'dateData'\n",
    "\n",
    "with open('refiddata2.csv', 'r') as dataCsv:\n",
    "    dataCsvReader = csv.reader(dataCsv)\n",
    "\n",
    "    dateData = [] \n",
    "\n",
    "    for i in dataCsvReader:\n",
    "        dateData.append(i)\n",
    "        #print(i)\n",
    "\n",
    "print(dateData[0:10])"
   ]
  },
  {
   "cell_type": "code",
   "execution_count": 8,
   "id": "e014d040-1e0c-42d5-8aba-f906446ded38",
   "metadata": {},
   "outputs": [
    {
     "name": "stdout",
     "output_type": "stream",
     "text": [
      "['UMCU0395'] ['CWZN0001']\n"
     ]
    }
   ],
   "source": [
    "# create empty lists for new variables. Iterate through csv file data and \n",
    "# append data to new lists. Participant ID and date data alternate throughout \n",
    "# the file, so using modulo operator was ideal. \n",
    "\n",
    "refId = []\n",
    "fillDateTime = []\n",
    "i = 0\n",
    "for i in range(len(dateData)):\n",
    "    if i % 2 == 0:\n",
    "        refId.append(dateData[i])\n",
    "    else:\n",
    "        fillDateTime.append(dateData[i]) \n",
    "    i += 1\n",
    "print(refId[0], refId[-1])"
   ]
  },
  {
   "cell_type": "code",
   "execution_count": 61,
   "id": "50321bfb-2019-475b-9d81-393cbc7bd1a1",
   "metadata": {},
   "outputs": [
    {
     "name": "stdout",
     "output_type": "stream",
     "text": [
      "[['UMCU0395'], ['UMCU0394'], ['UMCU0393'], ['UMCU0392'], ['UMCU0391']] [['CWZN0005'], ['CWZN0004'], ['CWZN0003'], ['CWZN0002'], ['CWZN0001']]\n",
      "[['2021-01-13 08:11:03'], ['2021-04-17 07:47:42'], ['2021-04-10 16:37:42'], ['2021-03-19 14:04:35'], ['2021-04-06 20:43:43']] [['2021-04-01 08:26:23'], ['2021-03-31 05:49:10'], ['2021-04-03 07:38:46'], ['2021-04-03 09:55:07'], ['2021-01-13 10:19:41']]\n",
      "1499\n",
      "1499\n"
     ]
    }
   ],
   "source": [
    "# inspect new lists for accuracy. Ensure that lengths are equal. \n",
    "print(refId[:5], refId[-5:])\n",
    "print(fillDateTime[:5], fillDateTime[-5:])\n",
    "print(len(refId))\n",
    "print(len(fillDateTime))"
   ]
  },
  {
   "cell_type": "code",
   "execution_count": 9,
   "id": "3292adb7-613d-4f58-9d3f-745aeea1cef3",
   "metadata": {},
   "outputs": [
    {
     "name": "stdout",
     "output_type": "stream",
     "text": [
      "['UMCU0395', 'UMCU0394', 'UMCU0393', 'UMCU0392', 'UMCU0391'] ['CWZN0005', 'CWZN0004', 'CWZN0003', 'CWZN0002', 'CWZN0001']\n"
     ]
    }
   ],
   "source": [
    "# flatten refId list \n",
    "flatRefId = []\n",
    "for i in refId:\n",
    "    for j in i:\n",
    "        flatRefId.append(j)\n",
    "print(flatRefId[0:5], flatRefId[-5:])"
   ]
  },
  {
   "cell_type": "code",
   "execution_count": 10,
   "id": "c938ee2d-575e-4ae6-a2ba-5e129e23f294",
   "metadata": {},
   "outputs": [
    {
     "name": "stdout",
     "output_type": "stream",
     "text": [
      "['2021-01-13 08:11:03', '2021-04-17 07:47:42', '2021-04-10 16:37:42', '2021-03-19 14:04:35', '2021-04-06 20:43:43'] ['2021-04-01 08:26:23', '2021-03-31 05:49:10', '2021-04-03 07:38:46', '2021-04-03 09:55:07', '2021-01-13 10:19:41']\n"
     ]
    }
   ],
   "source": [
    "# flatten fillDateTime list\n",
    "flatFillDateTime = []\n",
    "for m in fillDateTime:\n",
    "    for n in m:\n",
    "        flatFillDateTime.append(n)\n",
    "print(flatFillDateTime[0:5], flatFillDateTime[-5:])"
   ]
  },
  {
   "cell_type": "code",
   "execution_count": 11,
   "id": "1229fc47-ddfa-4c52-a633-b98592c9a372",
   "metadata": {},
   "outputs": [
    {
     "name": "stdout",
     "output_type": "stream",
     "text": [
      "<class 'list'>\n",
      "<class 'list'>\n"
     ]
    }
   ],
   "source": [
    "# check object type \n",
    "print(type(flatRefId))\n",
    "print(type(flatFillDateTime))"
   ]
  },
  {
   "cell_type": "code",
   "execution_count": 13,
   "id": "3a241c32-f3f6-4f3e-b38a-67fc7823ae07",
   "metadata": {},
   "outputs": [
    {
     "name": "stdout",
     "output_type": "stream",
     "text": [
      "     participants\n",
      "0        UMCU0395\n",
      "1        UMCU0394\n",
      "2        UMCU0393\n",
      "3        UMCU0392\n",
      "4        UMCU0391\n",
      "...           ...\n",
      "1494     CWZN0005\n",
      "1495     CWZN0004\n",
      "1496     CWZN0003\n",
      "1497     CWZN0002\n",
      "1498     CWZN0001\n",
      "\n",
      "[1499 rows x 1 columns]                      time\n",
      "0     2021-01-13 08:11:03\n",
      "1     2021-04-17 07:47:42\n",
      "2     2021-04-10 16:37:42\n",
      "3     2021-03-19 14:04:35\n",
      "4     2021-04-06 20:43:43\n",
      "...                   ...\n",
      "1494  2021-04-01 08:26:23\n",
      "1495  2021-03-31 05:49:10\n",
      "1496  2021-04-03 07:38:46\n",
      "1497  2021-04-03 09:55:07\n",
      "1498  2021-01-13 10:19:41\n",
      "\n",
      "[1499 rows x 1 columns]\n"
     ]
    }
   ],
   "source": [
    "# create a dataframe from each object using the pandas library. \n",
    "# inspect the newly created dataframes. \n",
    "df1 = pd.DataFrame(flatRefId, columns = ['participants'] )\n",
    "df2 = pd.DataFrame(flatFillDateTime, columns = ['time'])\n",
    "\n",
    "print(df1, df2)"
   ]
  },
  {
   "cell_type": "code",
   "execution_count": 14,
   "id": "9afdec63-3511-44fc-b5c1-4e76e83e619c",
   "metadata": {},
   "outputs": [
    {
     "name": "stdout",
     "output_type": "stream",
     "text": [
      "     participants                 time\n",
      "0        UMCU0395  2021-01-13 08:11:03\n",
      "1        UMCU0394  2021-04-17 07:47:42\n",
      "2        UMCU0393  2021-04-10 16:37:42\n",
      "3        UMCU0392  2021-03-19 14:04:35\n",
      "4        UMCU0391  2021-04-06 20:43:43\n",
      "...           ...                  ...\n",
      "1494     CWZN0005  2021-04-01 08:26:23\n",
      "1495     CWZN0004  2021-03-31 05:49:10\n",
      "1496     CWZN0003  2021-04-03 07:38:46\n",
      "1497     CWZN0002  2021-04-03 09:55:07\n",
      "1498     CWZN0001  2021-01-13 10:19:41\n",
      "\n",
      "[1499 rows x 2 columns]\n"
     ]
    }
   ],
   "source": [
    "# concatinate both dataframes into one data frame. Inspect the new dataframe.  \n",
    "dfCombined = pd.concat([df1, df2], axis=1)\n",
    "print(dfCombined)"
   ]
  },
  {
   "cell_type": "code",
   "execution_count": 15,
   "id": "a2fc44e0-b45e-41ed-8889-0cbde9dc52c3",
   "metadata": {},
   "outputs": [
    {
     "name": "stdout",
     "output_type": "stream",
     "text": [
      "    participants                 time\n",
      "300     UMCU0083  2021-04-01 21:42:42\n",
      "    participants                 time\n",
      "350     UMCU0031  2021-04-06 12:06:31\n",
      "    participants                 time\n",
      "360     UMCU0021  2021-04-13 10:28:28\n"
     ]
    }
   ],
   "source": [
    "# verify that follow-up times match particpant times by indexing specifc points\n",
    "# in the dataframe. \n",
    "print(dfCombined.iloc[[300]])\n",
    "print(dfCombined.iloc[[350]])\n",
    "print(dfCombined.iloc[[360]])"
   ]
  },
  {
   "cell_type": "code",
   "execution_count": 16,
   "id": "b3cfd1de-7eb8-44cd-b684-ecf5e28c8f4d",
   "metadata": {},
   "outputs": [],
   "source": [
    "# reverse dataframe to order via ascending rather than descending \n",
    "dfCombinedAsc = dfCombined.reindex(index=dfCombined.index[::-1])"
   ]
  },
  {
   "cell_type": "code",
   "execution_count": 17,
   "id": "de94209b-ad93-413a-906b-cfa00f8e1bd7",
   "metadata": {},
   "outputs": [
    {
     "name": "stdout",
     "output_type": "stream",
     "text": [
      "    participants                 time\n",
      "348     UMCU0033  2021-04-14 19:51:49\n",
      "    participants                 time\n",
      "298     UMCU0085  2021-04-13 10:43:33\n",
      "    participants                 time\n",
      "273     UMCU0110  2021-04-01 01:22:08\n"
     ]
    }
   ],
   "source": [
    "# verify that follow-up times match particpant times by indexing specifc points\n",
    "# in the dataframe. \n",
    "print(dfCombinedAsc.iloc[[1150]])\n",
    "print(dfCombinedAsc.iloc[[1200]])\n",
    "print(dfCombinedAsc.iloc[[1225]])"
   ]
  },
  {
   "cell_type": "code",
   "execution_count": 18,
   "id": "3a186a91-9d84-4f34-bc3c-73e5395a1636",
   "metadata": {},
   "outputs": [],
   "source": [
    "# create csv file from combined dataframe. Compress file via zip for access to\n",
    "# csv when needed. Stores file without an index. \n",
    "compressionOpts = dict(method='zip',\n",
    "                      archive_name='dataCleaning1VSV.csv')\n",
    "dfCombinedAsc.to_csv('dataCleaning1VSV.zip', index=False,\n",
    "                    compression=compressionOpts)"
   ]
  },
  {
   "cell_type": "code",
   "execution_count": 121,
   "id": "b05ba9f9-7d28-4497-b8ba-c759a66b1d3f",
   "metadata": {},
   "outputs": [],
   "source": [
    "# create excel file from combined dataframe. Stores file with reversed index. \n",
    "dfCombinedAsc.to_excel(\"dataCleaning1.xlsx\")"
   ]
  }
 ],
 "metadata": {
  "kernelspec": {
   "display_name": "Python 3",
   "language": "python",
   "name": "python3"
  },
  "language_info": {
   "codemirror_mode": {
    "name": "ipython",
    "version": 3
   },
   "file_extension": ".py",
   "mimetype": "text/x-python",
   "name": "python",
   "nbconvert_exporter": "python",
   "pygments_lexer": "ipython3",
   "version": "3.8.8"
  }
 },
 "nbformat": 4,
 "nbformat_minor": 5
}
